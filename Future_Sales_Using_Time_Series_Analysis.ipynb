{
 "cells": [
  {
   "cell_type": "code",
   "execution_count": 1,
   "metadata": {},
   "outputs": [],
   "source": [
    "# DESCRIPTION "
   ]
  },
  {
   "cell_type": "code",
   "execution_count": 2,
   "metadata": {},
   "outputs": [],
   "source": [
    "import pandas as pd\n",
    "import numpy as np\n",
    "import matplotlib.pyplot as plt\n",
    "%matplotlib inline\n",
    "from matplotlib.pylab import rcParams\n",
    "rcParams['figure.figsize'] = 15, 6\n"
   ]
  },
  {
   "cell_type": "code",
   "execution_count": 3,
   "metadata": {},
   "outputs": [],
   "source": [
    "# Read the files\n",
    "item_df = pd.read_csv(\"data/items.csv\")\n",
    "categories_df = pd.read_csv(\"data/category_trans.csv\")\n",
    "shops_df = pd.read_csv(\"data/shop_trans.csv\")\n",
    "sales_df = pd.read_csv(\"data/sales_train.csv\")"
   ]
  },
  {
   "cell_type": "code",
   "execution_count": 4,
   "metadata": {},
   "outputs": [],
   "source": [
    "# change the dateformat\n",
    "sales_df[\"date\"] = pd.to_datetime(sales_df[\"date\"], infer_datetime_format=True)"
   ]
  },
  {
   "cell_type": "code",
   "execution_count": 5,
   "metadata": {},
   "outputs": [
    {
     "name": "stdout",
     "output_type": "stream",
     "text": [
      "<class 'pandas.core.frame.DataFrame'>\n",
      "RangeIndex: 2935849 entries, 0 to 2935848\n",
      "Data columns (total 6 columns):\n",
      "date              datetime64[ns]\n",
      "date_block_num    int64\n",
      "shop_id           int64\n",
      "item_id           int64\n",
      "item_price        float64\n",
      "item_cnt_day      float64\n",
      "dtypes: datetime64[ns](1), float64(2), int64(3)\n",
      "memory usage: 134.4 MB\n"
     ]
    }
   ],
   "source": [
    "sales_df.info()"
   ]
  },
  {
   "cell_type": "code",
   "execution_count": 6,
   "metadata": {},
   "outputs": [],
   "source": [
    "# get the aggreate monthly sales\n",
    "monthly_sales = sales_df.groupby(['date_block_num', 'shop_id', 'item_id'])['date', 'item_price','item_cnt_day'].agg({\"date\": ['min', 'max'], 'item_cnt_day':'sum', 'item_price':'mean'})"
   ]
  },
  {
   "cell_type": "code",
   "execution_count": 7,
   "metadata": {},
   "outputs": [
    {
     "data": {
      "text/html": [
       "<div>\n",
       "<style scoped>\n",
       "    .dataframe tbody tr th:only-of-type {\n",
       "        vertical-align: middle;\n",
       "    }\n",
       "\n",
       "    .dataframe tbody tr th {\n",
       "        vertical-align: top;\n",
       "    }\n",
       "\n",
       "    .dataframe thead tr th {\n",
       "        text-align: left;\n",
       "    }\n",
       "\n",
       "    .dataframe thead tr:last-of-type th {\n",
       "        text-align: right;\n",
       "    }\n",
       "</style>\n",
       "<table border=\"1\" class=\"dataframe\">\n",
       "  <thead>\n",
       "    <tr>\n",
       "      <th></th>\n",
       "      <th></th>\n",
       "      <th></th>\n",
       "      <th colspan=\"2\" halign=\"left\">date</th>\n",
       "      <th>item_cnt_day</th>\n",
       "      <th>item_price</th>\n",
       "    </tr>\n",
       "    <tr>\n",
       "      <th></th>\n",
       "      <th></th>\n",
       "      <th></th>\n",
       "      <th>min</th>\n",
       "      <th>max</th>\n",
       "      <th>sum</th>\n",
       "      <th>mean</th>\n",
       "    </tr>\n",
       "    <tr>\n",
       "      <th>date_block_num</th>\n",
       "      <th>shop_id</th>\n",
       "      <th>item_id</th>\n",
       "      <th></th>\n",
       "      <th></th>\n",
       "      <th></th>\n",
       "      <th></th>\n",
       "    </tr>\n",
       "  </thead>\n",
       "  <tbody>\n",
       "    <tr>\n",
       "      <th rowspan=\"5\" valign=\"top\">0</th>\n",
       "      <th rowspan=\"5\" valign=\"top\">0</th>\n",
       "      <th>32</th>\n",
       "      <td>2013-01-21</td>\n",
       "      <td>2013-03-01</td>\n",
       "      <td>6.0</td>\n",
       "      <td>221.0</td>\n",
       "    </tr>\n",
       "    <tr>\n",
       "      <th>33</th>\n",
       "      <td>2013-01-17</td>\n",
       "      <td>2013-03-01</td>\n",
       "      <td>3.0</td>\n",
       "      <td>347.0</td>\n",
       "    </tr>\n",
       "    <tr>\n",
       "      <th>35</th>\n",
       "      <td>2013-01-31</td>\n",
       "      <td>2013-01-31</td>\n",
       "      <td>1.0</td>\n",
       "      <td>247.0</td>\n",
       "    </tr>\n",
       "    <tr>\n",
       "      <th>43</th>\n",
       "      <td>2013-01-31</td>\n",
       "      <td>2013-01-31</td>\n",
       "      <td>1.0</td>\n",
       "      <td>221.0</td>\n",
       "    </tr>\n",
       "    <tr>\n",
       "      <th>51</th>\n",
       "      <td>2013-01-13</td>\n",
       "      <td>2013-01-31</td>\n",
       "      <td>2.0</td>\n",
       "      <td>128.5</td>\n",
       "    </tr>\n",
       "  </tbody>\n",
       "</table>\n",
       "</div>"
      ],
      "text/plain": [
       "                                     date            item_cnt_day item_price\n",
       "                                      min        max          sum       mean\n",
       "date_block_num shop_id item_id                                              \n",
       "0              0       32      2013-01-21 2013-03-01          6.0      221.0\n",
       "                       33      2013-01-17 2013-03-01          3.0      347.0\n",
       "                       35      2013-01-31 2013-01-31          1.0      247.0\n",
       "                       43      2013-01-31 2013-01-31          1.0      221.0\n",
       "                       51      2013-01-13 2013-01-31          2.0      128.5"
      ]
     },
     "execution_count": 7,
     "metadata": {},
     "output_type": "execute_result"
    }
   ],
   "source": [
    "monthly_sales.head()"
   ]
  },
  {
   "cell_type": "markdown",
   "metadata": {},
   "source": [
    "### Time Series Analysis\n",
    "- We are required to to predict the next month sales per given item id and shop id"
   ]
  },
  {
   "cell_type": "code",
   "execution_count": 17,
   "metadata": {},
   "outputs": [
    {
     "data": {
      "text/plain": [
       "[<matplotlib.lines.Line2D at 0x10f3553c8>]"
      ]
     },
     "execution_count": 17,
     "metadata": {},
     "output_type": "execute_result"
    },
    {
     "data": {
      "image/png": "[encoded data removed]",
      "text/plain": [
       "<matplotlib.figure.Figure at 0x10f27ba20>"
      ]
     },
     "metadata": {},
     "output_type": "display_data"
    }
   ],
   "source": [
    "# get the monthly sales of all the items\n",
    "ts = sales_df.groupby([\"date_block_num\"])[\"item_cnt_day_sum\"].count()\n",
    "plt.xlabel('Time')\n",
    "plt.ylabel('Sales')\n",
    "plt.title(\"Montly sales\")\n",
    "plt.plot(ts)"
   ]
  },
  {
   "cell_type": "markdown",
   "metadata": {},
   "source": [
    "#### 1. Check if tha data is stationary \n",
    "A Time Series is said to be stationary if the mean, variance **remains constant** over time.\n",
    "\n",
    "We use two methods to check the stationary of the data:-\n",
    "    1. ADCF(Augmented Dicky Fuller Test) Test:-\n",
    "        In this case, if the **Test Statistics** is less than the **Critical Value**, the data is stationary.\n",
    "    2. Rolling statistics"
   ]
  },
  {
   "cell_type": "code",
   "execution_count": 23,
   "metadata": {},
   "outputs": [],
   "source": [
    "from statsmodels.tsa.stattools import adfuller\n",
    "def test_stationary(timeseries_df):\n",
    "\n",
    "    # determining rolling statictics\n",
    "    rolmean = timeseries_df.rolling(window=12).mean() # window 12, monthly\n",
    "    rolstd = timeseries_df.rolling(window=12).std()\n",
    "    \n",
    "    # ploting rolling\n",
    "    origi = plt.plot(timeseries_df, color=\"blue\", label=\"Original\")\n",
    "    mean = plt.plot(rolmean, color=\"red\", label=\"Rolling mean\")\n",
    "    std = plt.plot(rolstd, color=\"black\", label=\"Rolling std\")\n",
    "    plt.legend(loc='best')\n",
    "    plt.title(\"rolling statistics\")\n",
    "    plt.show(block=False)\n",
    "    \n",
    "    # Perform Dickey-Fuller test:\n",
    "    print(\"results of ADFC test\")\n",
    "    dftest = adfuller(timeseries_df, autolag=\"AIC\")\n",
    "\n",
    "    dfoutput = pd.Series(dftest[0:4], index=[\"Test statistics\", \"p-value\", \"#lags Used\", \"Number of observations Used\"])\n",
    "    for key, value in dftest[4].items():\n",
    "        dfoutput[\"Critical value (%s)\" %key] = value\n",
    "    print(dfoutput)"
   ]
  },
  {
   "cell_type": "code",
   "execution_count": 24,
   "metadata": {},
   "outputs": [
    {
     "data": {
      "image/png": "[encoded data removed]",
      "text/plain": [
       "<matplotlib.figure.Figure at 0x111fc3128>"
      ]
     },
     "metadata": {},
     "output_type": "display_data"
    },
    {
     "name": "stdout",
     "output_type": "stream",
     "text": [
      "results of ADFC test\n",
      "Test statistics                -2.342877\n",
      "p-value                         0.158512\n",
      "#lags Used                      0.000000\n",
      "Number of observations Used    33.000000\n",
      "Critical value (1%)            -3.646135\n",
      "Critical value (5%)            -2.954127\n",
      "Critical value (10%)           -2.615968\n",
      "dtype: float64\n"
     ]
    }
   ],
   "source": [
    "test_stationary(ts)"
   ]
  },
  {
   "cell_type": "markdown",
   "metadata": {},
   "source": [
    "The test statistics is not less than any of the critical values, therefore we can conclude that the data **is not** stationary"
   ]
  },
  {
   "cell_type": "code",
   "execution_count": null,
   "metadata": {},
   "outputs": [],
   "source": []
  }
 ],
 "metadata": {
  "kernelspec": {
   "display_name": "Python 3",
   "language": "python",
   "name": "python3"
  },
  "language_info": {
   "codemirror_mode": {
    "name": "ipython",
    "version": 3
   },
   "file_extension": ".py",
   "mimetype": "text/x-python",
   "name": "python",
   "nbconvert_exporter": "python",
   "pygments_lexer": "ipython3",
   "version": "3.6.4"
  }
 },
 "nbformat": 4,
 "nbformat_minor": 2
}
